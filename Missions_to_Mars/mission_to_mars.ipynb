{
 "metadata": {
  "language_info": {
   "codemirror_mode": {
    "name": "ipython",
    "version": 3
   },
   "file_extension": ".py",
   "mimetype": "text/x-python",
   "name": "python",
   "nbconvert_exporter": "python",
   "pygments_lexer": "ipython3",
   "version": "3.8.5"
  },
  "orig_nbformat": 2,
  "kernelspec": {
   "name": "python385jvsc74a57bd0dca0ade3e726a953b501b15e8e990130d2b7799f14cfd9f4271676035ebe5511",
   "display_name": "Python 3.8.5 64-bit ('base': conda)"
  }
 },
 "nbformat": 4,
 "nbformat_minor": 2,
 "cells": [
  {
   "cell_type": "code",
   "execution_count": 18,
   "metadata": {},
   "outputs": [],
   "source": [
    "### NASA Mars News\n",
    "\n",
    "##* Scrape the [Mars News Site](https://redplanetscience.com/) and collect the latest News Title and Paragraph Text. Assign the text to variables that you can reference later."
   ]
  },
  {
   "cell_type": "code",
   "execution_count": 19,
   "metadata": {},
   "outputs": [],
   "source": [
    "# import dependencies\n",
    "import pandas as pd\n",
    "from bs4 import BeautifulSoup as bs\n",
    "import requests\n",
    "import pymongo\n",
    "from splinter import Browser\n",
    "from selenium import webdriver"
   ]
  },
  {
   "cell_type": "code",
   "execution_count": 20,
   "metadata": {},
   "outputs": [],
   "source": [
    "# splinter\n",
    "executable_path = {'executable_path': '/usr/local/bin/chromedriver'}\n",
    "browser = Browser('chrome', **executable_path, headless=False)\n",
    "# url for Mars News Site\n",
    "url = \"https://redplanetscience.com/\"\n",
    "# open the url\n",
    "browser.visit(url)\n",
    "# html created\n",
    "html = browser.html\n",
    "# beautifulsoup object created\n",
    "soup = bs(html, \"html.parser\")"
   ]
  },
  {
   "cell_type": "code",
   "execution_count": 23,
   "metadata": {},
   "outputs": [
    {
     "output_type": "stream",
     "name": "stdout",
     "text": [
      "<div class=\"container\" id=\"news\">\n<div class=\"col-md-12\">\n<hr/>\n<div class=\"row\">\n<div class=\"col-md-4\">\n<div class=\"list_image\">\n<img src=\"https://mars.nasa.gov/system/news_items/list_view_images/8558_PIA23513-32x24.jpg\"/>\n</div>\n</div>\n<div class=\"col-md-8\">\n<div class=\"list_text\">\n<div class=\"list_date\">April 21, 2021</div>\n<div class=\"content_title\">Global Storms on Mars Launch Dust Towers Into the Sky</div>\n<div class=\"article_teaser_body\">A Mars Dust Tower Stands Out Dust storms are common on Mars. But every decade or so, something unpredictable happens: a series of runaway storms break out, covering the entire planet in a dusty haze.</div>\n</div>\n</div>\n</div>\n</div>\n<div class=\"col-md-12\">\n<hr/>\n<div class=\"row\">\n<div class=\"col-md-4\">\n<div class=\"list_image\">\n<img src=\"https://mars.nasa.gov/system/news_items/list_view_images/8792_parachute-320x240.jpg\"/>\n</div>\n</div>\n<div class=\"col-md-8\">\n<div class=\"list_text\">\n<div class=\"list_date\">April 20, 2021</div>\n<div class=\"content_title\">NASA's Perseverance Rover 100 Days Out</div>\n<div class=\"article_teaser_body\">Mark your calendars: The agency's latest rover has only about 8,640,000 seconds to go before it touches down on the Red Planet, becoming history's next Mars car.</div>\n</div>\n</div>\n</div>\n</div>\n<div class=\"col-md-12\">\n<hr/>\n<div class=\"row\">\n<div class=\"col-md-4\">\n<div class=\"list_image\">\n<img src=\"https://mars.nasa.gov/system/news_items/list_view_images/8622_1-PIA23764-RoverNamePlateonMars-320x240.jpg\"/>\n</div>\n</div>\n<div class=\"col-md-8\">\n<div class=\"list_text\">\n<div class=\"list_date\">April 20, 2021</div>\n<div class=\"content_title\">Virginia Middle School Student Earns Honor of Naming NASA's Next Mars Rover</div>\n<div class=\"article_teaser_body\">NASA chose a seventh-grader from Virginia as winner of the agency's \"Name the Rover\" essay contest. Alexander Mather's entry for \"Perseverance\" was voted tops among 28,000 entries. </div>\n</div>\n</div>\n</div>\n</div>\n<div class=\"col-md-12\">\n<hr/>\n<div class=\"row\">\n<div class=\"col-md-4\">\n<div class=\"list_image\">\n<img src=\"https://mars.nasa.gov/system/news_items/list_view_images/8606_list_image.jpg\"/>\n</div>\n</div>\n<div class=\"col-md-8\">\n<div class=\"list_text\">\n<div class=\"list_date\">April 19, 2021</div>\n<div class=\"content_title\">NASA Prepares for Moon and Mars With New Addition to Its Deep Space Network</div>\n<div class=\"article_teaser_body\">Robotic spacecraft will be able to communicate with the dish using radio waves and lasers.</div>\n</div>\n</div>\n</div>\n</div>\n<div class=\"col-md-12\">\n<hr/>\n<div class=\"row\">\n<div class=\"col-md-4\">\n<div class=\"list_image\">\n<img src=\"https://mars.nasa.gov/system/news_items/list_view_images/8645_PIA23824-RoverWithHelicopter-32x24.jpg\"/>\n</div>\n</div>\n<div class=\"col-md-8\">\n<div class=\"list_text\">\n<div class=\"list_date\">April 18, 2021</div>\n<div class=\"content_title\">Mars Helicopter Attached to NASA's Perseverance Rover</div>\n<div class=\"article_teaser_body\">The team also fueled the rover's sky crane to get ready for this summer's history-making launch.</div>\n</div>\n</div>\n</div>\n</div>\n<div class=\"col-md-12\">\n<hr/>\n<div class=\"row\">\n<div class=\"col-md-4\">\n<div class=\"list_image\">\n<img src=\"https://mars.nasa.gov/system/news_items/list_view_images/8506_mars-solar-conjunction-th.jpg\"/>\n</div>\n</div>\n<div class=\"col-md-8\">\n<div class=\"list_text\">\n<div class=\"list_date\">April 14, 2021</div>\n<div class=\"content_title\">What's Mars Solar Conjunction, and Why Does It Matter?</div>\n<div class=\"article_teaser_body\">NASA spacecraft at Mars are going to be on their own for a few weeks when the Sun comes between Mars and Earth, interrupting communications.</div>\n</div>\n</div>\n</div>\n</div>\n<div class=\"col-md-12\">\n<hr/>\n<div class=\"row\">\n<div class=\"col-md-4\">\n<div class=\"list_image\">\n<img src=\"https://mars.nasa.gov/system/news_items/list_view_images/8509_PIA23461-226.jpg\"/>\n</div>\n</div>\n<div class=\"col-md-8\">\n<div class=\"list_text\">\n<div class=\"list_date\">April 11, 2021</div>\n<div class=\"content_title\">NASA's Mars 2020 Comes Full Circle</div>\n<div class=\"article_teaser_body\">Aiming to pinpoint the Martian vehicle's center of gravity, engineers took NASA's 2,300-pound Mars 2020 rover for a spin in the clean room at JPL. </div>\n</div>\n</div>\n</div>\n</div>\n<div class=\"col-md-12\">\n<hr/>\n<div class=\"row\">\n<div class=\"col-md-4\">\n<div class=\"list_image\">\n<img src=\"https://mars.nasa.gov/system/news_items/list_view_images/8573_PIA23499-226.jpg\"/>\n</div>\n</div>\n<div class=\"col-md-8\">\n<div class=\"list_text\">\n<div class=\"list_date\">April 10, 2021</div>\n<div class=\"content_title\">NASA's Mars 2020 Rover Completes Its First Drive</div>\n<div class=\"article_teaser_body\">In a 10-plus-hour marathon, the rover steered, turned and drove in 3-foot (1-meter) increments over small ramps.</div>\n</div>\n</div>\n</div>\n</div>\n<div class=\"col-md-12\">\n<hr/>\n<div class=\"row\">\n<div class=\"col-md-4\">\n<div class=\"list_image\">\n<img src=\"https://mars.nasa.gov/system/news_items/list_view_images/8675_Webby_main_320x240.jpg\"/>\n</div>\n</div>\n<div class=\"col-md-8\">\n<div class=\"list_text\">\n<div class=\"list_date\">April 5, 2021</div>\n<div class=\"content_title\">NASA Wins 4 Webbys, 4 People's Voice Awards</div>\n<div class=\"article_teaser_body\">Winners include the JPL-managed \"Send Your Name to Mars\" campaign, NASA's Global Climate Change website and Solar System Interactive.</div>\n</div>\n</div>\n</div>\n</div>\n<div class=\"col-md-12\">\n<hr/>\n<div class=\"row\">\n<div class=\"col-md-4\">\n<div class=\"list_image\">\n<img src=\"https://mars.nasa.gov/system/news_items/list_view_images/8613_InSight-Nature-papers-320x240.jpg\"/>\n</div>\n</div>\n<div class=\"col-md-8\">\n<div class=\"list_text\">\n<div class=\"list_date\">April 5, 2021</div>\n<div class=\"content_title\">A Year of Surprising Science From NASA's InSight Mars Mission</div>\n<div class=\"article_teaser_body\">A batch of new papers summarizes the lander's findings above and below the surface of the Red Planet.</div>\n</div>\n</div>\n</div>\n</div>\n<div class=\"col-md-12\">\n<hr/>\n<div class=\"row\">\n<div class=\"col-md-4\">\n<div class=\"list_image\">\n<img src=\"https://mars.nasa.gov/system/news_items/list_view_images/8518_PIA23373-320x240.gif\"/>\n</div>\n</div>\n<div class=\"col-md-8\">\n<div class=\"list_text\">\n<div class=\"list_date\">April 4, 2021</div>\n<div class=\"content_title\">NASA's Push to Save the Mars InSight Lander's Heat Probe</div>\n<div class=\"article_teaser_body\">The scoop on the end of the spacecraft's robotic arm will be used to 'pin' the mole against the wall of its hole.</div>\n</div>\n</div>\n</div>\n</div>\n<div class=\"col-md-12\">\n<hr/>\n<div class=\"row\">\n<div class=\"col-md-4\">\n<div class=\"list_image\">\n<img src=\"https://mars.nasa.gov/system/news_items/list_view_images/8612_Sol427-437_backcap_push_positioning-320x240.gif\"/>\n</div>\n</div>\n<div class=\"col-md-8\">\n<div class=\"list_text\">\n<div class=\"list_date\">April 3, 2021</div>\n<div class=\"content_title\">Mars InSight Lander to Push on Top of the 'Mole'</div>\n<div class=\"article_teaser_body\">Engineers have a plan for pushing down on the heat probe, which has been stuck at the Martian surface for a year.</div>\n</div>\n</div>\n</div>\n</div>\n<div class=\"col-md-12\">\n<hr/>\n<div class=\"row\">\n<div class=\"col-md-4\">\n<div class=\"list_image\">\n<img src=\"https://mars.nasa.gov/system/news_items/list_view_images/8785_PIA24231-320.jpg\"/>\n</div>\n</div>\n<div class=\"col-md-8\">\n<div class=\"list_text\">\n<div class=\"list_date\">April 3, 2021</div>\n<div class=\"content_title\">NASA's Perseverance Rover Is Midway to Mars </div>\n<div class=\"article_teaser_body\">Sometimes half measures can be a good thing – especially on a journey this long. The agency's latest rover only has about 146 million miles left to reach its destination.</div>\n</div>\n</div>\n</div>\n</div>\n<div class=\"col-md-12\">\n<hr/>\n<div class=\"row\">\n<div class=\"col-md-4\">\n<div class=\"list_image\">\n<img src=\"https://mars.nasa.gov/system/news_items/list_view_images/8551_PIA23551-320x240.jpg\"/>\n</div>\n</div>\n<div class=\"col-md-8\">\n<div class=\"list_text\">\n<div class=\"list_date\">April 1, 2021</div>\n<div class=\"content_title\">Mars Scientists Investigate Ancient Life in Australia</div>\n<div class=\"article_teaser_body\">Teams with NASA's Mars 2020 and ESA's ExoMars practiced hunting for fossilized microbial life in the Australian Outback in preparation for their Red Planet missions. </div>\n</div>\n</div>\n</div>\n</div>\n<div class=\"col-md-12\">\n<hr/>\n<div class=\"row\">\n<div class=\"col-md-4\">\n<div class=\"list_image\">\n<img src=\"https://mars.nasa.gov/system/news_items/list_view_images/8659_1-PIA23883-MAIN-320x240.jpg\"/>\n</div>\n</div>\n<div class=\"col-md-8\">\n<div class=\"list_text\">\n<div class=\"list_date\">March 31, 2021</div>\n<div class=\"content_title\">Alabama High School Student Names NASA's Mars Helicopter</div>\n<div class=\"article_teaser_body\">Vaneeza Rupani's essay was chosen as the name for the small spacecraft, which will mark NASA's first attempt at powered flight on another planet.</div>\n</div>\n</div>\n</div>\n</div>\n</div>\n"
     ]
    }
   ],
   "source": [
    "# beautifulsoup find latest news data\n",
    "data = soup.find(\"div\", id=\"news\")\n",
    "print(data)"
   ]
  },
  {
   "cell_type": "code",
   "execution_count": 29,
   "metadata": {},
   "outputs": [
    {
     "output_type": "stream",
     "name": "stdout",
     "text": [
      "News Title: Global Storms on Mars Launch Dust Towers Into the Sky\n----------\nSummary: A Mars Dust Tower Stands Out Dust storms are common on Mars. But every decade or so, something unpredictable happens: a series of runaway storms break out, covering the entire planet in a dusty haze.\n"
     ]
    }
   ],
   "source": [
    "# use bs to get news title and paragraph info\n",
    "news_title = data.find(\"div\", class_=\"content_title\").text\n",
    "news_content = data.find(\"div\", class_=\"article_teaser_body\").text\n",
    "print(\"News Title: \" + news_title)\n",
    "print(\"----------\")\n",
    "print(\"Summary: \" + news_content)"
   ]
  },
  {
   "cell_type": "code",
   "execution_count": null,
   "metadata": {},
   "outputs": [],
   "source": []
  }
 ]
}